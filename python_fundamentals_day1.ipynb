{
 "cells": [
  {
   "cell_type": "code",
   "execution_count": null,
   "metadata": {},
   "outputs": [],
   "source": [
    "Softwares required: \n",
    "    \n",
    "    www.anaconda.com --> python distibutor\n",
    "    github --> repository"
   ]
  },
  {
   "cell_type": "code",
   "execution_count": null,
   "metadata": {},
   "outputs": [],
   "source": [
    "Steps to install anconda in Ubuntu:\n",
    "    step1: download the anaconda 64bit installer from www.anaconda.com\n",
    "    step2: run file in terminal with sh filename\n",
    "    step3: run anaconda-navigator to open GUI of anaconda with localhost:8888 port and select jupyter notebook for to run code\n",
    "    step4: run first python code Hello World\n",
    "    step5: save the file and push it to gihub"
   ]
  },
  {
   "cell_type": "code",
   "execution_count": 2,
   "metadata": {},
   "outputs": [
    {
     "name": "stdout",
     "output_type": "stream",
     "text": [
      "Hello Python people\n"
     ]
    }
   ],
   "source": [
    "#sample code\n",
    "\n",
    "print('Hello Python people')"
   ]
  },
  {
   "cell_type": "code",
   "execution_count": null,
   "metadata": {},
   "outputs": [],
   "source": []
  }
 ],
 "metadata": {
  "kernelspec": {
   "display_name": "Python 3",
   "language": "python",
   "name": "python3"
  },
  "language_info": {
   "codemirror_mode": {
    "name": "ipython",
    "version": 3
   },
   "file_extension": ".py",
   "mimetype": "text/x-python",
   "name": "python",
   "nbconvert_exporter": "python",
   "pygments_lexer": "ipython3",
   "version": "3.7.6"
  }
 },
 "nbformat": 4,
 "nbformat_minor": 4
}
