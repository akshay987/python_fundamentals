{
 "cells": [
  {
   "cell_type": "code",
   "execution_count": null,
   "metadata": {},
   "outputs": [],
   "source": [
    "# Introduction to user accepted input\n",
    "\n",
    "#ex: user name: unique\n",
    "     full_name: \n",
    "     DOB\n",
    "     pwd"
   ]
  },
  {
   "cell_type": "code",
   "execution_count": null,
   "metadata": {},
   "outputs": [],
   "source": [
    "# flow: login:username & pwd ==> loggedin ==> verifying in its database & matches ==> it gives you access ==>it is not matches --> incorrect pwd"
   ]
  },
  {
   "cell_type": "code",
   "execution_count": 2,
   "metadata": {},
   "outputs": [
    {
     "name": "stdout",
     "output_type": "stream",
     "text": [
      "tell me something and i will repeate it back for you Hello all\n",
      " Hello all\n"
     ]
    }
   ],
   "source": [
    "message= input('tell me something and i will repeate it back for you')# input method\n",
    "\n",
    "print(message)"
   ]
  },
  {
   "cell_type": "code",
   "execution_count": 5,
   "metadata": {},
   "outputs": [
    {
     "name": "stdout",
     "output_type": "stream",
     "text": [
      "please enter your name:pradeep\n",
      "\n",
      " welcome back, good to have you on amazon, pradeep\n"
     ]
    }
   ],
   "source": [
    "# enhancement of code \n",
    "\n",
    "name= input('please enter your name:')# input method\n",
    "\n",
    "print(f\"\\n welcome back, good to have you on amazon, {name}\") # f string and \\n is a new delimiter\n"
   ]
  },
  {
   "cell_type": "code",
   "execution_count": 6,
   "metadata": {},
   "outputs": [
    {
     "name": "stdout",
     "output_type": "stream",
     "text": [
      "please enter your name:pradeep\n",
      "\n",
      " welcome back, good to have you in amazon, Pradeep\n"
     ]
    }
   ],
   "source": [
    "# Further enhancement: formating name\n",
    "\n",
    "name= input('please enter your name:')\n",
    "\n",
    "print(f\"\\n welcome back, good to have you in amazon, {name.title()}\")"
   ]
  },
  {
   "cell_type": "code",
   "execution_count": null,
   "metadata": {},
   "outputs": [],
   "source": [
    "==> # Case study:\n",
    "\n",
    "# understanding a simple voting application \n",
    "# age>18"
   ]
  },
  {
   "cell_type": "code",
   "execution_count": null,
   "metadata": {},
   "outputs": [],
   "source": [
    "# things need to be validated from the user\n",
    "# ask the user age\n",
    "# age > 18 --> eligible to vote\n",
    "# if not then, sorry not eligible to vote\n",
    "\n",
    "\n",
    "# Note point: By default input method will accept the data as a 'string'\n",
    "\n",
    "# string --> integer not possible\n",
    "\n",
    "#Type casting: For coverting the datatypes from one formate to another it is called type casting.\n",
    "\n"
   ]
  },
  {
   "cell_type": "code",
   "execution_count": 7,
   "metadata": {},
   "outputs": [
    {
     "name": "stdout",
     "output_type": "stream",
     "text": [
      "How old are you14\n"
     ]
    },
    {
     "ename": "TypeError",
     "evalue": "'>=' not supported between instances of 'str' and 'int'",
     "output_type": "error",
     "traceback": [
      "\u001b[0;31m---------------------------------------------------------------------------\u001b[0m",
      "\u001b[0;31mTypeError\u001b[0m                                 Traceback (most recent call last)",
      "\u001b[0;32m<ipython-input-7-bda6b7f17782>\u001b[0m in \u001b[0;36m<module>\u001b[0;34m\u001b[0m\n\u001b[1;32m      3\u001b[0m \u001b[0mage\u001b[0m\u001b[0;34m=\u001b[0m\u001b[0minput\u001b[0m\u001b[0;34m(\u001b[0m\u001b[0;34m'How old are you'\u001b[0m\u001b[0;34m)\u001b[0m\u001b[0;34m\u001b[0m\u001b[0;34m\u001b[0m\u001b[0m\n\u001b[1;32m      4\u001b[0m \u001b[0;34m\u001b[0m\u001b[0m\n\u001b[0;32m----> 5\u001b[0;31m \u001b[0;32mif\u001b[0m \u001b[0mage\u001b[0m\u001b[0;34m>=\u001b[0m \u001b[0;36m18\u001b[0m\u001b[0;34m:\u001b[0m\u001b[0;34m\u001b[0m\u001b[0;34m\u001b[0m\u001b[0m\n\u001b[0m\u001b[1;32m      6\u001b[0m     \u001b[0mprint\u001b[0m\u001b[0;34m(\u001b[0m\u001b[0;34m'you are eligible for voting'\u001b[0m\u001b[0;34m)\u001b[0m\u001b[0;34m\u001b[0m\u001b[0;34m\u001b[0m\u001b[0m\n\u001b[1;32m      7\u001b[0m \u001b[0;32melse\u001b[0m\u001b[0;34m:\u001b[0m\u001b[0;34m\u001b[0m\u001b[0;34m\u001b[0m\u001b[0m\n",
      "\u001b[0;31mTypeError\u001b[0m: '>=' not supported between instances of 'str' and 'int'"
     ]
    }
   ],
   "source": [
    "# example:\n",
    "\n",
    "age=input('How old are you')\n",
    "\n",
    "if age>= 18:\n",
    "    print('you are eligible for voting')\n",
    "else:\n",
    "    print('not eligible')"
   ]
  },
  {
   "cell_type": "code",
   "execution_count": null,
   "metadata": {},
   "outputs": [],
   "source": [
    "In the above ex type error will come, since string to int conversion was not taken place. need to convert that"
   ]
  },
  {
   "cell_type": "code",
   "execution_count": 9,
   "metadata": {},
   "outputs": [
    {
     "name": "stdout",
     "output_type": "stream",
     "text": [
      "How old are you19\n",
      "you are eligible for voting\n"
     ]
    }
   ],
   "source": [
    "# enhancement of the code:\n",
    "\n",
    "age=input('How old are you')\n",
    "age=int(age)# type casting --> converting string to integer manually\n",
    "\n",
    "if age>= 18:\n",
    "    print('you are eligible for voting')\n",
    "else:\n",
    "    print('not eligible')"
   ]
  },
  {
   "cell_type": "code",
   "execution_count": null,
   "metadata": {},
   "outputs": [],
   "source": []
  }
 ],
 "metadata": {
  "kernelspec": {
   "display_name": "Python 3",
   "language": "python",
   "name": "python3"
  },
  "language_info": {
   "codemirror_mode": {
    "name": "ipython",
    "version": 3
   },
   "file_extension": ".py",
   "mimetype": "text/x-python",
   "name": "python",
   "nbconvert_exporter": "python",
   "pygments_lexer": "ipython3",
   "version": "3.7.6"
  }
 },
 "nbformat": 4,
 "nbformat_minor": 4
}
